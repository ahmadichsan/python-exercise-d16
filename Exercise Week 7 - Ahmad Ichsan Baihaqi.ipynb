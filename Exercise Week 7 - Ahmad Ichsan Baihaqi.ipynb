{
 "cells": [
  {
   "cell_type": "markdown",
   "id": "4b461b33",
   "metadata": {},
   "source": [
    "**Exercise Week 7**\n",
    "\n",
    "**Author: Ahmad Ichsan Baihaqi**\n",
    "\n",
    "**Email: ahmadichsanbaihaqi@gmail.com**"
   ]
  },
  {
   "cell_type": "markdown",
   "id": "0f092821",
   "metadata": {},
   "source": [
    "### Question 1: How much time has passed?\n",
    "\n",
    "When doing Data Science projects, we might come accross data in Date format that refers to a certain point in time. They often come in very different formats - some may only have the date, some may have the month and year, and some even has the exact time (hours, minutes, seconds) and timezone. \n",
    "\n",
    "Clue: You can use any libraries to help you.\n",
    "\n",
    "In this exercise, explore some ways how to load a string that tells us date so we can calculate the difference between the two input dates. \n",
    "\n",
    "You will be tasked to write a function called `duration_count` which takes in 2 inputs. Both of the inputs are string that tells you the date. The output of your function should be the duration between the 2 inputs, in seconds. \n",
    "\n",
    "The input format will be: \"Date Month Year Hour:Minute:Second Timezone_Information\"\n",
    "\n",
    "#### Example 1:\n",
    "\n",
    "- Input 1 = 'Mon 23 Feb 2017 14:41:10 -0800'\n",
    "- Input 2 = 'Mon 23 Feb 2017 14:41:10 -0200'\n",
    "\n",
    "Both inputs refer to the same date and same time, but in different timezones. Therefore, the duration between these two dates are: 6 hours. But, as we want the answer to be in seconds, the expected answer is 21600 seconds. (Just output 21600, you don't have to write seconds).\n",
    "\n",
    "#### Example 2:\n",
    "\n",
    "- Input 1 = 'Mon 23 Dec 2017 14:00:00 -0700'\n",
    "- Input 2 = 'Tue 24 Dec 2017 14:00:00 -0700'\n",
    "\n",
    "Both inputs refer to the same time and are located in the same time zone. However, they are 1 day apart. Therefore, the duration between them are: 1 day = 1 x 24 x 3600 = 86400 seconds.\n",
    "\n",
    "#### Extra Clue:\n",
    "\n",
    "The day format is shortened (we input Mon instead of Monday), and the month is also shortened (we input Dec instead of December)."
   ]
  },
  {
   "cell_type": "code",
   "execution_count": 2,
   "id": "8b7a48ae",
   "metadata": {},
   "outputs": [],
   "source": [
    "from datetime import datetime"
   ]
  },
  {
   "cell_type": "code",
   "execution_count": 18,
   "id": "e298f75f",
   "metadata": {},
   "outputs": [],
   "source": [
    "def duration_count(input_1, input_2):\n",
    "    format_date = \"%a %d %b %Y %X %z\";\n",
    "\n",
    "    converted_1 = datetime.strptime(input_1, format_date)\n",
    "    converted_2 = datetime.strptime(input_2, format_date)\n",
    "    \n",
    "    delta = converted_1 - converted_2\n",
    "    seconds = delta.total_seconds()\n",
    "\n",
    "    return abs(seconds)"
   ]
  },
  {
   "cell_type": "code",
   "execution_count": 19,
   "id": "3f7203a6",
   "metadata": {},
   "outputs": [
    {
     "name": "stdout",
     "output_type": "stream",
     "text": [
      "21600.0\n",
      "86400.0\n"
     ]
    }
   ],
   "source": [
    "sample1 = \"Mon 23 Feb 2017 14:41:10 -0800\"\n",
    "sample2 = \"Mon 23 Feb 2017 14:41:10 -0200\"\n",
    "\n",
    "print(duration_count(sample1, sample2))\n",
    "\n",
    "sample3 = \"Mon 23 Dec 2017 14:00:00 -0700\"\n",
    "sample4 = \"Tue 24 Dec 2017 14:00:00 -0700\"\n",
    "\n",
    "print(duration_count(sample3, sample4))"
   ]
  },
  {
   "cell_type": "markdown",
   "id": "b2d1f519",
   "metadata": {},
   "source": [
    "### Question 2: What Day is It?\n",
    "\n",
    "In time series data, we usually want to know what day is it. It usually isn't enough to just know the 'number' of date, especially when days matter a lot to our data (example: customer behavior analysis). In a customer behavior analysis scenario, we might find different behaviors in Monday - Friday vs Saturday - Sunday (weekend). Knowing the days also allow us to map some seasonality. \n",
    "\n",
    "Given 3 input: date first, then month, and finally year. Can you tell us what day is it? You can use any library that you want. Your function name should be named `find_day`.\n",
    "\n",
    "#### Example 1:\n",
    "\n",
    "`find_day(11,10,2021)` should give output \"Monday\", as 11 October 2021 is a Monday.\n",
    "\n",
    "#### Example 2:\n",
    "\n",
    "`find_day(17,8,1945)` should give output \"Friday\", as 17 August 1945 is a Friday."
   ]
  },
  {
   "cell_type": "code",
   "execution_count": 20,
   "id": "edb0aff4",
   "metadata": {},
   "outputs": [],
   "source": [
    "import calendar"
   ]
  },
  {
   "cell_type": "code",
   "execution_count": 21,
   "id": "785e828e",
   "metadata": {},
   "outputs": [],
   "source": [
    "def find_day(day, month, year):\n",
    "    result = datetime.strptime(f\"{day} {month} {year}\", '%d %m %Y').weekday()\n",
    "\n",
    "    return (calendar.day_name[result])"
   ]
  },
  {
   "cell_type": "code",
   "execution_count": 25,
   "id": "1c5e7b0a",
   "metadata": {},
   "outputs": [
    {
     "name": "stdout",
     "output_type": "stream",
     "text": [
      "Monday\n",
      "Friday\n"
     ]
    }
   ],
   "source": [
    "print(find_day(11,10,2021))\n",
    "print(find_day(17,8,1945))"
   ]
  }
 ],
 "metadata": {
  "kernelspec": {
   "display_name": "Python 3",
   "language": "python",
   "name": "python3"
  },
  "language_info": {
   "codemirror_mode": {
    "name": "ipython",
    "version": 3
   },
   "file_extension": ".py",
   "mimetype": "text/x-python",
   "name": "python",
   "nbconvert_exporter": "python",
   "pygments_lexer": "ipython3",
   "version": "3.8.8"
  }
 },
 "nbformat": 4,
 "nbformat_minor": 5
}
